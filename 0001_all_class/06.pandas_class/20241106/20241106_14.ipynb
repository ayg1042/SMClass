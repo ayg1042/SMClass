{
 "cells": [
  {
   "cell_type": "markdown",
   "metadata": {},
   "source": [
    "1. 2020년~2023년 영화 내용을 저장하시오.\n",
    "- csv파일로 저장\n",
    "- 이미지 저장\n",
    "- 제목\n",
    "- 관객수 : 숫자입력\n",
    "1,312 -> 1312\n",
    "- 날짜\n",
    "2. DataFrame 변경\n",
    "관객수\n",
    "-> 최대값\n",
    "-> 최소값\n",
    "-> 평균\n",
    "-> 최대관객수 5개\n",
    "-> 최소관객수 5개를\n",
    "출력하시오."
   ]
  },
  {
   "cell_type": "code",
   "execution_count": 33,
   "metadata": {},
   "outputs": [],
   "source": [
    "import pandas as pd\n",
    "from selenium import webdriver\n",
    "from selenium.webdriver.common.by import By\n",
    "from selenium.webdriver.common.keys import Keys\n",
    "from selenium.webdriver.support.ui import WebDriverWait\n",
    "from selenium.webdriver.support import expected_conditions as EC\n",
    "import time\n",
    "import requests\n",
    "from bs4 import BeautifulSoup\n",
    "import random\n",
    "from selenium.webdriver.chrome.options import Options\n",
    "import pyautogui\n",
    "import csv\n"
   ]
  },
  {
   "cell_type": "code",
   "execution_count": 41,
   "metadata": {},
   "outputs": [],
   "source": [
    "def sreach():\n",
    "  url = 'https://search.daum.net/search?w=tot&q=2023%EB%85%84%EC%98%81%ED%99%94%EC%88%9C%EC%9C%84&DA=MOR&rtmaxcoll=MOR'\n",
    "  wep = webdriver.Chrome()\n",
    "  wep.maximize_window()\n",
    "  wep.get(url)\n",
    "  time.sleep(2)\n",
    "\n",
    "  for i in range(3):\n",
    "    soup = BeautifulSoup(wep.page_source, 'lxml')\n",
    "    with open(f'C:/workspace/20241106/daum_movie_{i + 1}.html', 'w', encoding='utf-8') as f:\n",
    "      f.write(soup.prettify())\n",
    "    time.sleep(3)\n",
    "    elem = wep.find_element(By.XPATH, f'//*[@id=\"morColl\"]/div/c-container/div[2]/c-carousel/div/ul/li[{i+3}]/a')\n",
    "    elem.click()\n",
    "    time.sleep(3)\n",
    "\n",
    "sreach()"
   ]
  },
  {
   "cell_type": "code",
   "execution_count": 78,
   "metadata": {},
   "outputs": [],
   "source": [
    "\n",
    "\n",
    "for i in range(3):\n",
    "  title_list = []\n",
    "  person_list = []\n",
    "  mdate_list = []\n",
    "  with open(f'C:/workspace/20241106/daum_movie_{i+1}.html', 'r', encoding='utf-8') as f:\n",
    "    soup = BeautifulSoup(f, 'lxml')\n",
    "\n",
    "  # print(f'{page + 1}. 페이지')\n",
    "  data_list = soup.select('#mor_history_id_0 > div > div.flipsnap_view > div > div:nth-child(1) > c-flicking-item > c-layout > div > c-list-doc > ul > li')\n",
    "  for data in data_list:\n",
    "    title = data.select_one('c-doc > div > div.item-bundle-mid > div.item-title > c-title > strong > a').text.strip()\n",
    "    person = data.select_one('c-doc > div > div.item-bundle-mid > div.item-contents > c-contents-desc > p > a').text.strip()\n",
    "    start = person.find(' ')\n",
    "    end = person.find('만')\n",
    "    person = int(person[start:end].strip().replace(',',''))\n",
    "    mdate = data.select_one('c-doc > div > div.item-bundle-mid > div.item-contents > c-contents-desc-sub > span').text.strip()\n",
    "    title_list.append(title)\n",
    "    person_list.append(person)\n",
    "    mdate_list.append(mdate)\n",
    "  mbdata = {\n",
    "    '제목': title_list,\n",
    "    '관객수': person_list,\n",
    "    '날짜': mdate_list\n",
    "  }\n",
    "  df = pd.DataFrame(mbdata)\n",
    "  df.to_csv(f'영화_{i+1}.csv', encoding='utf-8')\n",
    "    "
   ]
  },
  {
   "cell_type": "code",
   "execution_count": 109,
   "metadata": {},
   "outputs": [
    {
     "data": {
      "text/plain": [
       "제목\n",
       "샹치와 텐 링즈의 전설    174\n",
       "샹치와 텐 링즈의 전설    174\n",
       "크루엘라            198\n",
       "크루엘라            198\n",
       "소울              204\n",
       "Name: 관객수, dtype: int64"
      ]
     },
     "execution_count": 109,
     "metadata": {},
     "output_type": "execute_result"
    }
   ],
   "source": [
    "mb_data1 = pd.read_csv('영화_1.csv', encoding='utf-8')\n",
    "mb_data2 = pd.read_csv('영화_2.csv', encoding='utf-8')\n",
    "mb_data3 = pd.read_csv('영화_3.csv', encoding='utf-8')\n",
    "df = pd.concat([mb_data1.iloc[:, 1:], mb_data3.iloc[:, 1:], mb_data3.iloc[:, 1:]])\n",
    "df.set_index('제목', inplace=True)\n",
    "df['관객수'].max()\n",
    "df['관객수'].min()\n",
    "df['관객수'].mean()\n",
    "df['관객수'].nlargest(5)\n",
    "df['관객수'].nsmallest(5)\n"
   ]
  }
 ],
 "metadata": {
  "kernelspec": {
   "display_name": "Python 3",
   "language": "python",
   "name": "python3"
  },
  "language_info": {
   "codemirror_mode": {
    "name": "ipython",
    "version": 3
   },
   "file_extension": ".py",
   "mimetype": "text/x-python",
   "name": "python",
   "nbconvert_exporter": "python",
   "pygments_lexer": "ipython3",
   "version": "3.12.6"
  }
 },
 "nbformat": 4,
 "nbformat_minor": 2
}
